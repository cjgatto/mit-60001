{
 "cells": [
  {
   "cell_type": "markdown",
   "metadata": {},
   "source": [
    "# From MIT6_0001F16_Getting_Start.pdf\n",
    "\n",
    "Most of this document goes through setting up an old version of Python and Spyder. At the end, it says to check your environment by running the script included in problem set 0. It generates a graph of earthquake data.\n",
    "\n",
    "If you run the script directly, you may see a warning about having a non-interactive display:\n",
    "```bash\n",
    "$ python3 /workspace/coursework/ps0/pkgtest.py\n",
    "#/workspace/coursework/ps0/pkgtest.py:412: UserWarning: FigureCanvasAgg is non-interactive, and thus cannot be shown\n",
    "#  pylab.show()\n",
    "```\n",
    "\n",
    "So, in the VSCode, open [pkgtest.py](../coursework/ps0/pkgtest.py), right-click in the file explorer and select \"Run Current File in Interactive Window.\"\n",
    "\n",
    "Or, using this Jupyter notebook, you can execute the file directly with the `%run` macro. Next to the code snippet below, click \"Execute Cell\" on the left."
   ]
  },
  {
   "cell_type": "code",
   "execution_count": null,
   "metadata": {},
   "outputs": [],
   "source": [
    "%run -i /workspace/coursework/ps0/pkgtest.py"
   ]
  },
  {
   "cell_type": "markdown",
   "metadata": {},
   "source": [
    "----\n",
    "# From MIT6_0001F16_ProblemSet0.pdf\n",
    "\n",
    "Write a program that does the following in order:\n",
    "1. Asks the user to enter a number \"x\"\n",
    "1. Asks the user to enter a number \"y\"\n",
    "1. Prints out number \"x\", raised to the power \"y\"\n",
    "1. Prints out the log (base 2) of \"x\""
   ]
  },
  {
   "cell_type": "code",
   "execution_count": null,
   "metadata": {},
   "outputs": [],
   "source": [
    "import math\n",
    "\n",
    "x = int(input(\"Enter number x: \"))\n",
    "y = int(input(\"Enter number y: \"))\n",
    "\n",
    "print(f\"x**y: {math.pow(x, y)}\")\n",
    "print(f\"log(x): {math.log(x, 2)}\")"
   ]
  }
 ],
 "metadata": {
  "kernelspec": {
   "display_name": "Python 3",
   "language": "python",
   "name": "python3"
  },
  "language_info": {
   "codemirror_mode": {
    "name": "ipython",
    "version": 3
   },
   "file_extension": ".py",
   "mimetype": "text/x-python",
   "name": "python",
   "nbconvert_exporter": "python",
   "pygments_lexer": "ipython3",
   "version": "3.11.6"
  }
 },
 "nbformat": 4,
 "nbformat_minor": 2
}
