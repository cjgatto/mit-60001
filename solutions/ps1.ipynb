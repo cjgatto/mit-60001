{
 "cells": [
  {
   "cell_type": "markdown",
   "metadata": {},
   "source": [
    "# From ps1.pdf\n",
    "\n",
    "----\n",
    "\n",
    "## Part A: House Hunting\n",
    "\n",
    "1. Call the cost of your dream home `​total_cost​`. \n",
    "2. Call the portion of the cost needed for a down payment `​portion_down_payment​`. For \n",
    "simplicity, assume that `portion_down_payment = 0.25` (25%). \n",
    "3. Call the amount that you have saved thus far `​current_savings​`. You start with a current \n",
    "savings of `$0`. \n",
    "4. Assume that you invest your current savings wisely, with an annual return of `r` ​(in other words, at the end of each month, you receive an additional `​current_savings*r/12​` funds to put into your savings – the 12 is because ​r​ is an annual rate). Assume that your investments earn a \n",
    "return of `r = 0.04` (4%). \n",
    "5. Assume your annual salary is `​annual_salary​`. \n",
    "6. Assume you are going to dedicate a certain amount of your salary each month to saving for \n",
    "the down payment. Call that `​portion_saved​`. This variable should be in decimal form (i.e. 0.1 \n",
    "for 10%). \n",
    "7. At the end of each month, your savings will be increased by the return on your investment, \n",
    "plus a percentage of your ​monthly salary ​(annual salary / 12).\n",
    "\n",
    "Write a program to calculate how many months it will take you to save up enough money for a down \n",
    "payment. You will want your main variables to be floats, so you should cast user inputs to floats.\n",
    "\n",
    "Your program should ask the user to enter the following variables: \n",
    "1. The starting annual salary (`annual_salary`) \n",
    "2. The portion of salary to be saved (`portion_saved`) \n",
    "3. The cost of your dream home (`total_cost`)"
   ]
  },
  {
   "cell_type": "code",
   "execution_count": 62,
   "metadata": {},
   "outputs": [],
   "source": [
    "def how_many_months_for_down_payment(annual_salary, portion_saved, total_cost):\n",
    "    r = 0.04 # annual return on investments\n",
    "    month_count = 0 \n",
    "    current_savings = 0 \n",
    "    portion_down_payment = 0.25\n",
    "    down_payment_amount = total_cost * portion_down_payment\n",
    "    \n",
    "    while current_savings < down_payment_amount:\n",
    "\n",
    "        # amount gained from investment\n",
    "        current_savings += current_savings * r / 12\n",
    "\n",
    "        # amount saved each month\n",
    "        current_savings += annual_salary / 12 * portion_saved\n",
    "\n",
    "        # a month has passed\n",
    "        month_count += 1\n",
    "\n",
    "    print(f\"Number of months: {month_count}\")\n",
    "    return month_count"
   ]
  },
  {
   "cell_type": "code",
   "execution_count": 63,
   "metadata": {},
   "outputs": [
    {
     "name": "stdout",
     "output_type": "stream",
     "text": [
      "Number of months: 183\n",
      "Number of months: 105\n"
     ]
    }
   ],
   "source": [
    "# provided test cases\n",
    "assert how_many_months_for_down_payment(120000, 0.10, 1000000) == 183\n",
    "assert how_many_months_for_down_payment(80000, 0.15, 500000) == 105"
   ]
  },
  {
   "cell_type": "markdown",
   "metadata": {},
   "source": [
    "----\n",
    "\n",
    "## Part B: Saving, with a raise\n",
    "\n",
    "1. Have the user input a semi-annual salary raise ​semi_annual_raise​ (as a decimal percentage) \n",
    "2. After the 6​th​ month, increase your salary by that percentage.  Do the same after the 12th month, the 18​th​ month, and so on."
   ]
  },
  {
   "cell_type": "code",
   "execution_count": 64,
   "metadata": {},
   "outputs": [],
   "source": [
    "def how_many_months_for_down_payment(annual_salary, portion_saved, total_cost, semi_annual_raise):\n",
    "    r = 0.04 # annual return on investments\n",
    "    month_count = 0 \n",
    "    current_savings = 0 \n",
    "    portion_down_payment = 0.25\n",
    "    down_payment_amount = total_cost * portion_down_payment\n",
    "    \n",
    "    while current_savings < down_payment_amount:\n",
    "\n",
    "        # amount gained from investment\n",
    "        current_savings += current_savings * r / 12\n",
    "\n",
    "        # amount saved each month\n",
    "        current_savings += annual_salary / 12 * portion_saved\n",
    "\n",
    "        # a month has passed\n",
    "        month_count += 1\n",
    "\n",
    "        # every 6 months, increase annual_salary\n",
    "        if month_count % 6 == 0:\n",
    "            annual_salary += annual_salary * semi_annual_raise\n",
    "\n",
    "    print(f\"Number of months: {month_count}\")\n",
    "    return month_count"
   ]
  },
  {
   "cell_type": "code",
   "execution_count": 65,
   "metadata": {},
   "outputs": [
    {
     "name": "stdout",
     "output_type": "stream",
     "text": [
      "Number of months: 142\n",
      "Number of months: 159\n",
      "Number of months: 261\n"
     ]
    }
   ],
   "source": [
    "# provided test cases\n",
    "assert how_many_months_for_down_payment(120000, 0.05, 500000, 0.03) == 142\n",
    "assert how_many_months_for_down_payment(80000, 0.10, 800000, 0.03) == 159\n",
    "assert how_many_months_for_down_payment(75000, 0.05, 1500000, 0.05) == 261"
   ]
  },
  {
   "cell_type": "markdown",
   "metadata": {},
   "source": [
    "----\n",
    "\n",
    "## Part C: Finding the right amounth to save away\n",
    "\n",
    "Assume\n",
    "- `semi_annual_raise = 0.07`\n",
    "- `r = 0.04`\n",
    "- `portion_down_payment = 0.25`\n",
    "- `total_cost = 1000000`\n",
    "\n",
    "Find the best savings rate to reach the down payment amount (within $100) in exactly 36 months. Use a [bisection search](https://www.geeksforgeeks.org/binary-search-bisect-in-python/#) to find the answer."
   ]
  },
  {
   "cell_type": "code",
   "execution_count": 66,
   "metadata": {},
   "outputs": [],
   "source": [
    "def amount_saved_over_months(months, annual_salary, portion_saved):\n",
    "    r = 0.04 # annual return on investments\n",
    "    semi_annual_raise = 0.07\n",
    "    month_count = 0 \n",
    "    current_savings = 0 \n",
    "            \n",
    "    while month_count < months:\n",
    "        current_savings += current_savings * r / 12\n",
    "        current_savings += annual_salary / 12 * portion_saved\n",
    "        month_count += 1\n",
    "\n",
    "        if month_count % 6 == 0:\n",
    "            annual_salary += annual_salary * semi_annual_raise\n",
    "\n",
    "    return current_savings\n",
    "\n",
    "def find_best_savings_rate(annual_salary):\n",
    "    total_cost = 1000000\n",
    "    portion_down_payment = 0.25\n",
    "    price_saved_tolerance = 100\n",
    "    down_payment = total_cost * portion_down_payment\n",
    "\n",
    "    search_steps = 0\n",
    "    rate_upper_bound = 1.00\n",
    "    rate_lower_bound = 0.00\n",
    "    target_portion_saved = (rate_upper_bound + rate_lower_bound) / 2\n",
    "\n",
    "    while True:\n",
    "        search_steps += 1\n",
    "        amount_saved = amount_saved_over_months(36, annual_salary, target_portion_saved)\n",
    "        # print(f\"{search_steps}: Testing rate of {target_portion_saved}\")\n",
    "\n",
    "        if (abs(down_payment - amount_saved) <= price_saved_tolerance):\n",
    "            print(f\"Best savings rate: {target_portion_saved}\")\n",
    "            print(f\"Steps in bisection search: {search_steps}\")\n",
    "            return search_steps\n",
    "        elif (target_portion_saved == 1):\n",
    "            print(\"It is not possible to pay the down payment in 3 years.\")\n",
    "            return -1\n",
    "        elif (amount_saved > down_payment):\n",
    "            # we saved too much\n",
    "            rate_upper_bound = target_portion_saved\n",
    "            target_portion_saved = (rate_upper_bound + rate_lower_bound) / 2\n",
    "        else:\n",
    "            # we saved too little\n",
    "            rate_lower_bound = target_portion_saved\n",
    "            target_portion_saved = (rate_upper_bound + rate_lower_bound) / 2\n",
    "\n",
    "    \n"
   ]
  },
  {
   "cell_type": "code",
   "execution_count": 67,
   "metadata": {},
   "outputs": [
    {
     "name": "stdout",
     "output_type": "stream",
     "text": [
      "Best savings rate: 0.44091796875\n",
      "Steps in bisection search: 11\n",
      "Best savings rate: 0.220458984375\n",
      "Steps in bisection search: 12\n",
      "It is not possible to pay the down payment in 3 years.\n"
     ]
    }
   ],
   "source": [
    "assert find_best_savings_rate(150000) == 11\n",
    "assert find_best_savings_rate(300000) == 12\n",
    "assert find_best_savings_rate(10000) == -1"
   ]
  }
 ],
 "metadata": {
  "kernelspec": {
   "display_name": "Python 3",
   "language": "python",
   "name": "python3"
  },
  "language_info": {
   "codemirror_mode": {
    "name": "ipython",
    "version": 3
   },
   "file_extension": ".py",
   "mimetype": "text/x-python",
   "name": "python",
   "nbconvert_exporter": "python",
   "pygments_lexer": "ipython3",
   "version": "3.11.6"
  }
 },
 "nbformat": 4,
 "nbformat_minor": 2
}
